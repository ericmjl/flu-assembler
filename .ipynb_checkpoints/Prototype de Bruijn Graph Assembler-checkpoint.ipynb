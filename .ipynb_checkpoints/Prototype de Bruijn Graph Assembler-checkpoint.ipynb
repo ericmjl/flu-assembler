{
 "cells": [
  {
   "cell_type": "code",
   "execution_count": 53,
   "metadata": {
    "collapsed": true
   },
   "outputs": [],
   "source": [
    "import networkx as nx"
   ]
  },
  {
   "cell_type": "code",
   "execution_count": 54,
   "metadata": {
    "collapsed": false
   },
   "outputs": [],
   "source": [
    "def kmers(string, kmer_len):\n",
    "    \"\"\"\n",
    "    A function that takes in a string, and splits it up into k-mers.\n",
    "    \n",
    "    Generator function, therefore lazily evaluated. Keeps memory usage low.\n",
    "    \"\"\"\n",
    "    i = 0\n",
    "    while i + kmer_len <= len(string):\n",
    "        yield string[i:i+kmer_len]\n",
    "        i += 1\n",
    "        \n",
    "# dbG = nx.DiGraph()\n",
    "# for s in SeqIO.parse(filtered, 'fastq'):\n",
    "#     for kmer in kmers(s.seq, k):\n",
    "#         n1 = kmer[0:k-1]\n",
    "#         n2 = kmer[1:k]\n",
    "        \n",
    "#         if not dbG.has_node(n1):\n",
    "#             dbG.add_node(n1)\n",
    "#         if not dbG.has_node(n2):\n",
    "#             dbG.add_node(n2)\n",
    "        \n",
    "#         if not dbG.has_edge(n1, n2):\n",
    "#             dbG.add_edge(n1, n2, sequence=kmer, count=0)\n",
    "#         if dbG.has_edge(n1, n2):\n",
    "#             dbG.edge[n1][n2]['count'] += 1"
   ]
  },
  {
   "cell_type": "code",
   "execution_count": 64,
   "metadata": {
    "collapsed": false,
    "scrolled": true
   },
   "outputs": [
    {
     "name": "stdout",
     "output_type": "stream",
     "text": [
      "CGTTACCTTGCAGGAATTGAGGCCGTCCGTTAATTTCCCTTGCATACATATTGCGTTTTTTTGTCCTTTTATCCGCTCACTTAGAAAAGAGACAGATAGC\n",
      "['TTTTTGTCC', 'GTCCTTTTA', 'AGGAATTGA', 'CTTGCAGGA', 'TTGAGGCCG', 'TGCGTTTTT', 'TTTTTTTGT', 'TTGTCCTTT', 'GGAATTGAG', 'ACCTTGCAG', 'TTACCTTGC', 'CCTTGCAGG', 'TGTCCTTTT', 'TTGCAGGAA', 'GCAGGAATT', 'CGTTTTTTT', 'TTGCGTTTT', 'TTTTGTCCT', 'ATTGAGGCC', 'GTTACCTTG', 'GCGTTTTTT', 'GAATTGAGG', 'TACCTTGCA', 'TGCAGGAAT', 'CGTTACCTT', 'AATTGAGGC', 'TCCTTTTAT', 'GTTTTTTTG', 'TTTGTCCTT', 'TTTTTTGTC', 'CAGGAATTG']\n"
     ]
    }
   ],
   "source": [
    "\n",
    "original = 'CGTTACCTTGCAGGAATTGAGGCCGTCCGTTAATTTCCCTTGCATACATATTGCGTTTTTTTGTCCTTTTATCCGCTCACTTAGAAAAGAGACAGATAGC'\n",
    "reads = [original[0:20], original[1:21], original[2:22], original[5:25], original[50:70], original[51:71], original[52:72]]\n",
    "print(original)\n",
    "k = 10\n",
    "\n",
    "def generate_kmer_graph(reads, k):\n",
    "    testG = nx.DiGraph()\n",
    "    for read in reads:\n",
    "        for kmer in kmers(read, k):\n",
    "            n1 = kmer[0:k-1]\n",
    "            n2 = kmer[1:k]\n",
    "\n",
    "            if not testG.has_node(n1):\n",
    "                testG.add_node(n1)\n",
    "            if not testG.has_node(n2):\n",
    "                testG.add_node(n2)\n",
    "\n",
    "            if not testG.has_edge(n1, n2):\n",
    "                testG.add_edge(n1, n2, sequence=kmer, count=0)\n",
    "            if testG.has_edge(n1, n2):\n",
    "                testG.edge[n1][n2]['count'] += 1\n",
    "\n",
    "    return testG\n",
    "\n",
    "testG = generate_kmer_graph(reads, k)\n",
    "print(testG.nodes())"
   ]
  },
  {
   "cell_type": "code",
   "execution_count": 65,
   "metadata": {
    "collapsed": false
   },
   "outputs": [
    {
     "data": {
      "text/plain": [
       "2"
      ]
     },
     "execution_count": 65,
     "metadata": {},
     "output_type": "execute_result"
    }
   ],
   "source": [
    "len([g for g in nx.connected_component_subgraphs(testG.to_undirected())])"
   ]
  },
  {
   "cell_type": "code",
   "execution_count": 66,
   "metadata": {
    "collapsed": false
   },
   "outputs": [
    {
     "name": "stdout",
     "output_type": "stream",
     "text": [
      "['TTTTTTGTC'] TTTTTGTCC ['TTTTGTCCT']\n",
      "['TGTCCTTTT'] GTCCTTTTA ['TCCTTTTAT']\n",
      "['CAGGAATTG'] AGGAATTGA ['GGAATTGAG']\n",
      "['CCTTGCAGG'] CTTGCAGGA ['TTGCAGGAA']\n",
      "['ATTGAGGCC'] TTGAGGCCG []\n",
      "['TTGCGTTTT'] TGCGTTTTT ['GCGTTTTTT']\n",
      "['GTTTTTTTG'] TTTTTTTGT ['TTTTTTGTC']\n",
      "['TTTGTCCTT'] TTGTCCTTT ['TGTCCTTTT']\n",
      "['AGGAATTGA'] GGAATTGAG ['GAATTGAGG']\n",
      "['TACCTTGCA'] ACCTTGCAG ['CCTTGCAGG']\n",
      "['GTTACCTTG'] TTACCTTGC ['TACCTTGCA']\n",
      "['ACCTTGCAG'] CCTTGCAGG ['CTTGCAGGA']\n",
      "['TTGTCCTTT'] TGTCCTTTT ['GTCCTTTTA']\n",
      "['CTTGCAGGA'] TTGCAGGAA ['TGCAGGAAT']\n",
      "['TGCAGGAAT'] GCAGGAATT ['CAGGAATTG']\n",
      "['GCGTTTTTT'] CGTTTTTTT ['GTTTTTTTG']\n",
      "[] TTGCGTTTT ['TGCGTTTTT']\n",
      "['TTTTTGTCC'] TTTTGTCCT ['TTTGTCCTT']\n",
      "['AATTGAGGC'] ATTGAGGCC ['TTGAGGCCG']\n",
      "['CGTTACCTT'] GTTACCTTG ['TTACCTTGC']\n",
      "['TGCGTTTTT'] GCGTTTTTT ['CGTTTTTTT']\n",
      "['GGAATTGAG'] GAATTGAGG ['AATTGAGGC']\n",
      "['TTACCTTGC'] TACCTTGCA ['ACCTTGCAG']\n",
      "['TTGCAGGAA'] TGCAGGAAT ['GCAGGAATT']\n",
      "[] CGTTACCTT ['GTTACCTTG']\n",
      "['GAATTGAGG'] AATTGAGGC ['ATTGAGGCC']\n",
      "['GTCCTTTTA'] TCCTTTTAT []\n",
      "['CGTTTTTTT'] GTTTTTTTG ['TTTTTTTGT']\n",
      "['TTTTGTCCT'] TTTGTCCTT ['TTGTCCTTT']\n",
      "['TTTTTTTGT'] TTTTTTGTC ['TTTTTGTCC']\n",
      "['GCAGGAATT'] CAGGAATTG ['AGGAATTGA']\n"
     ]
    }
   ],
   "source": [
    "# This block of code verifies that the graph is Eulerian.\n",
    "n_odd = 0\n",
    "for n in testG.nodes():\n",
    "    n_neighbors = len(testG.successors(n)) + len(testG.predecessors(n))\n",
    "    if n_neighbors % 2 != 0:\n",
    "        n_odd += 1\n",
    "    print(testG.predecessors(n), n, testG.successors(n))\n",
    "assert n_odd % 2 == 0, print(n_odd)"
   ]
  },
  {
   "cell_type": "code",
   "execution_count": 67,
   "metadata": {
    "collapsed": false
   },
   "outputs": [
    {
     "name": "stdout",
     "output_type": "stream",
     "text": [
      "TTGCGTTTT\n"
     ]
    }
   ],
   "source": [
    "def start_node(G):\n",
    "    \"\"\"\n",
    "    This function finds the starting node in an Eulerian-verified de Bruijn graph.\n",
    "    \n",
    "    The start node should have no predecessors.\n",
    "    \"\"\"\n",
    "    for n in G.nodes_iter():\n",
    "        if len(G.predecessors(n)) == 0:\n",
    "            return n\n",
    "\n",
    "testG = generate_kmer_graph(reads, k)\n",
    "n = start_node(testG)\n",
    "print(n)"
   ]
  },
  {
   "cell_type": "code",
   "execution_count": 71,
   "metadata": {
    "collapsed": false
   },
   "outputs": [
    {
     "name": "stdout",
     "output_type": "stream",
     "text": [
      "TTGCGTTTT\n",
      "['TGCGTTTTT']\n",
      "TGCGTTTTT\n",
      "['GCGTTTTTT']\n",
      "GCGTTTTTT\n",
      "['CGTTTTTTT']\n",
      "CGTTTTTTT\n",
      "['GTTTTTTTG']\n",
      "GTTTTTTTG\n",
      "['TTTTTTTGT']\n",
      "TTTTTTTGT\n",
      "['TTTTTTGTC']\n",
      "TTTTTTGTC\n",
      "['TTTTTGTCC']\n",
      "TTTTTGTCC\n",
      "['TTTTGTCCT']\n",
      "TTTTGTCCT\n",
      "['TTTGTCCTT']\n",
      "TTTGTCCTT\n",
      "['TTGTCCTTT']\n",
      "TTGTCCTTT\n",
      "['TGTCCTTTT']\n",
      "TGTCCTTTT\n",
      "['GTCCTTTTA']\n",
      "GTCCTTTTA\n",
      "['TCCTTTTAT']\n",
      "TCCTTTTAT\n",
      "[]\n",
      "TTGCGTTTTTTTGTCCTTTTAT\n",
      "CGTTACCTTGCAGGAATTGAGGCCGTCCGTTAATTTCCCTTGCATACATATTGCGTTTTTTTGTCCTTTTATCCGCTCACTTAGAAAAGAGACAGATAGC\n"
     ]
    },
    {
     "ename": "AssertionError",
     "evalue": "",
     "output_type": "error",
     "traceback": [
      "\u001b[0;31m---------------------------------------------------------------------------\u001b[0m",
      "\u001b[0;31mAssertionError\u001b[0m                            Traceback (most recent call last)",
      "\u001b[0;32m<ipython-input-71-765ae66775a3>\u001b[0m in \u001b[0;36m<module>\u001b[0;34m()\u001b[0m\n\u001b[1;32m     24\u001b[0m \u001b[0mprint\u001b[0m\u001b[0;34m(\u001b[0m\u001b[0msequence\u001b[0m\u001b[0;34m)\u001b[0m\u001b[0;34m\u001b[0m\u001b[0m\n\u001b[1;32m     25\u001b[0m \u001b[0mprint\u001b[0m\u001b[0;34m(\u001b[0m\u001b[0moriginal\u001b[0m\u001b[0;34m)\u001b[0m\u001b[0;34m\u001b[0m\u001b[0m\n\u001b[0;32m---> 26\u001b[0;31m \u001b[0;32massert\u001b[0m \u001b[0msequence\u001b[0m \u001b[0;34m==\u001b[0m \u001b[0moriginal\u001b[0m\u001b[0;34m\u001b[0m\u001b[0m\n\u001b[0m",
      "\u001b[0;31mAssertionError\u001b[0m: "
     ]
    }
   ],
   "source": [
    "# This block of code performs the de novo assembly of sequences, to generate\n",
    "# the final string, from one connected Eulerian graph.\n",
    "stack = [n]\n",
    "travG = testG.copy()\n",
    "sequence = stack[-1]\n",
    "from random import choice\n",
    "while stack:\n",
    "    n = stack[-1]\n",
    "    print(n)\n",
    "    print(travG.successors(n))\n",
    "    if travG.successors(n):\n",
    "        s = testG.successors(n)[-1] # assuming only one successor\n",
    "        sequence += s[-1]\n",
    "        if travG.edge[n][s]['count'] == 0:\n",
    "            pass\n",
    "        if travG.edge[n][s]['count'] > 0:\n",
    "            stack.pop(-1)\n",
    "            stack.append(s)\n",
    "            testG.edge[n][s]['count'] += -1\n",
    "    if not travG.successors(n):\n",
    "        break\n",
    "    \n",
    "    \n",
    "print(sequence)\n",
    "print(original)\n",
    "assert sequence == original"
   ]
  },
  {
   "cell_type": "code",
   "execution_count": null,
   "metadata": {
    "collapsed": true
   },
   "outputs": [],
   "source": []
  },
  {
   "cell_type": "code",
   "execution_count": null,
   "metadata": {
    "collapsed": true
   },
   "outputs": [],
   "source": []
  }
 ],
 "metadata": {
  "kernelspec": {
   "display_name": "Python 3",
   "language": "python",
   "name": "python3"
  },
  "language_info": {
   "codemirror_mode": {
    "name": "ipython",
    "version": 3
   },
   "file_extension": ".py",
   "mimetype": "text/x-python",
   "name": "python",
   "nbconvert_exporter": "python",
   "pygments_lexer": "ipython3",
   "version": "3.4.3"
  }
 },
 "nbformat": 4,
 "nbformat_minor": 0
}
